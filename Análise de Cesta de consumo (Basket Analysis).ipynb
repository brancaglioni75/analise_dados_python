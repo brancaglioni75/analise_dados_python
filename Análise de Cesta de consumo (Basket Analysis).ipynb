{
 "cells": [
  {
   "cell_type": "code",
   "execution_count": 1,
   "metadata": {},
   "outputs": [],
   "source": [
    "import pandas as pd"
   ]
  },
  {
   "cell_type": "code",
   "execution_count": 2,
   "metadata": {},
   "outputs": [
    {
     "name": "stdout",
     "output_type": "stream",
     "text": [
      "Requirement already satisfied: apyori in c:\\users\\lenovo\\anaconda3\\lib\\site-packages (1.1.2)\n"
     ]
    }
   ],
   "source": [
    "!pip install apyori"
   ]
  },
  {
   "cell_type": "code",
   "execution_count": 3,
   "metadata": {},
   "outputs": [],
   "source": [
    "from apyori import apriori"
   ]
  },
  {
   "cell_type": "code",
   "execution_count": 4,
   "metadata": {},
   "outputs": [],
   "source": [
    "df = pd.read_csv('groceries_data.csv', header = None)"
   ]
  },
  {
   "cell_type": "code",
   "execution_count": 5,
   "metadata": {},
   "outputs": [
    {
     "data": {
      "text/html": [
       "<div>\n",
       "<style scoped>\n",
       "    .dataframe tbody tr th:only-of-type {\n",
       "        vertical-align: middle;\n",
       "    }\n",
       "\n",
       "    .dataframe tbody tr th {\n",
       "        vertical-align: top;\n",
       "    }\n",
       "\n",
       "    .dataframe thead th {\n",
       "        text-align: right;\n",
       "    }\n",
       "</style>\n",
       "<table border=\"1\" class=\"dataframe\">\n",
       "  <thead>\n",
       "    <tr style=\"text-align: right;\">\n",
       "      <th></th>\n",
       "      <th>0</th>\n",
       "      <th>1</th>\n",
       "      <th>2</th>\n",
       "      <th>3</th>\n",
       "    </tr>\n",
       "  </thead>\n",
       "  <tbody>\n",
       "    <tr>\n",
       "      <th>0</th>\n",
       "      <td>leite</td>\n",
       "      <td>cerveja</td>\n",
       "      <td>pao</td>\n",
       "      <td>manteiga</td>\n",
       "    </tr>\n",
       "    <tr>\n",
       "      <th>1</th>\n",
       "      <td>cafe</td>\n",
       "      <td>pao</td>\n",
       "      <td>manteiga</td>\n",
       "      <td>NaN</td>\n",
       "    </tr>\n",
       "    <tr>\n",
       "      <th>2</th>\n",
       "      <td>cafe</td>\n",
       "      <td>pao</td>\n",
       "      <td>manteiga</td>\n",
       "      <td>NaN</td>\n",
       "    </tr>\n",
       "    <tr>\n",
       "      <th>3</th>\n",
       "      <td>leite</td>\n",
       "      <td>cafe</td>\n",
       "      <td>pao</td>\n",
       "      <td>manteiga</td>\n",
       "    </tr>\n",
       "    <tr>\n",
       "      <th>4</th>\n",
       "      <td>cerveja</td>\n",
       "      <td>NaN</td>\n",
       "      <td>NaN</td>\n",
       "      <td>NaN</td>\n",
       "    </tr>\n",
       "  </tbody>\n",
       "</table>\n",
       "</div>"
      ],
      "text/plain": [
       "         0        1         2         3\n",
       "0    leite  cerveja       pao  manteiga\n",
       "1     cafe      pao  manteiga       NaN\n",
       "2     cafe      pao  manteiga       NaN\n",
       "3    leite     cafe       pao  manteiga\n",
       "4  cerveja      NaN       NaN       NaN"
      ]
     },
     "execution_count": 5,
     "metadata": {},
     "output_type": "execute_result"
    }
   ],
   "source": [
    "df.head()"
   ]
  },
  {
   "cell_type": "code",
   "execution_count": 6,
   "metadata": {},
   "outputs": [
    {
     "data": {
      "text/html": [
       "<div>\n",
       "<style scoped>\n",
       "    .dataframe tbody tr th:only-of-type {\n",
       "        vertical-align: middle;\n",
       "    }\n",
       "\n",
       "    .dataframe tbody tr th {\n",
       "        vertical-align: top;\n",
       "    }\n",
       "\n",
       "    .dataframe thead th {\n",
       "        text-align: right;\n",
       "    }\n",
       "</style>\n",
       "<table border=\"1\" class=\"dataframe\">\n",
       "  <thead>\n",
       "    <tr style=\"text-align: right;\">\n",
       "      <th></th>\n",
       "      <th>0</th>\n",
       "      <th>1</th>\n",
       "      <th>2</th>\n",
       "      <th>3</th>\n",
       "    </tr>\n",
       "  </thead>\n",
       "  <tbody>\n",
       "    <tr>\n",
       "      <th>5</th>\n",
       "      <td>manteiga</td>\n",
       "      <td>NaN</td>\n",
       "      <td>NaN</td>\n",
       "      <td>NaN</td>\n",
       "    </tr>\n",
       "    <tr>\n",
       "      <th>6</th>\n",
       "      <td>pao</td>\n",
       "      <td>NaN</td>\n",
       "      <td>NaN</td>\n",
       "      <td>NaN</td>\n",
       "    </tr>\n",
       "    <tr>\n",
       "      <th>7</th>\n",
       "      <td>feijao</td>\n",
       "      <td>NaN</td>\n",
       "      <td>NaN</td>\n",
       "      <td>NaN</td>\n",
       "    </tr>\n",
       "    <tr>\n",
       "      <th>8</th>\n",
       "      <td>arroz</td>\n",
       "      <td>feijao</td>\n",
       "      <td>NaN</td>\n",
       "      <td>NaN</td>\n",
       "    </tr>\n",
       "    <tr>\n",
       "      <th>9</th>\n",
       "      <td>arroz</td>\n",
       "      <td>NaN</td>\n",
       "      <td>NaN</td>\n",
       "      <td>NaN</td>\n",
       "    </tr>\n",
       "  </tbody>\n",
       "</table>\n",
       "</div>"
      ],
      "text/plain": [
       "          0       1    2    3\n",
       "5  manteiga     NaN  NaN  NaN\n",
       "6       pao     NaN  NaN  NaN\n",
       "7    feijao     NaN  NaN  NaN\n",
       "8     arroz  feijao  NaN  NaN\n",
       "9     arroz     NaN  NaN  NaN"
      ]
     },
     "execution_count": 6,
     "metadata": {},
     "output_type": "execute_result"
    }
   ],
   "source": [
    "df.tail()"
   ]
  },
  {
   "cell_type": "code",
   "execution_count": 7,
   "metadata": {},
   "outputs": [
    {
     "name": "stdout",
     "output_type": "stream",
     "text": [
      "<class 'pandas.core.frame.DataFrame'>\n",
      "RangeIndex: 10 entries, 0 to 9\n",
      "Data columns (total 4 columns):\n",
      " #   Column  Non-Null Count  Dtype \n",
      "---  ------  --------------  ----- \n",
      " 0   0       10 non-null     object\n",
      " 1   1       5 non-null      object\n",
      " 2   2       4 non-null      object\n",
      " 3   3       2 non-null      object\n",
      "dtypes: object(4)\n",
      "memory usage: 448.0+ bytes\n"
     ]
    }
   ],
   "source": [
    "df.info()"
   ]
  },
  {
   "cell_type": "code",
   "execution_count": 8,
   "metadata": {},
   "outputs": [
    {
     "data": {
      "text/html": [
       "<div>\n",
       "<style scoped>\n",
       "    .dataframe tbody tr th:only-of-type {\n",
       "        vertical-align: middle;\n",
       "    }\n",
       "\n",
       "    .dataframe tbody tr th {\n",
       "        vertical-align: top;\n",
       "    }\n",
       "\n",
       "    .dataframe thead th {\n",
       "        text-align: right;\n",
       "    }\n",
       "</style>\n",
       "<table border=\"1\" class=\"dataframe\">\n",
       "  <thead>\n",
       "    <tr style=\"text-align: right;\">\n",
       "      <th></th>\n",
       "      <th>0</th>\n",
       "      <th>1</th>\n",
       "      <th>2</th>\n",
       "      <th>3</th>\n",
       "    </tr>\n",
       "  </thead>\n",
       "  <tbody>\n",
       "    <tr>\n",
       "      <th>9</th>\n",
       "      <td>arroz</td>\n",
       "      <td>NaN</td>\n",
       "      <td>NaN</td>\n",
       "      <td>NaN</td>\n",
       "    </tr>\n",
       "  </tbody>\n",
       "</table>\n",
       "</div>"
      ],
      "text/plain": [
       "       0    1    2    3\n",
       "9  arroz  NaN  NaN  NaN"
      ]
     },
     "execution_count": 8,
     "metadata": {},
     "output_type": "execute_result"
    }
   ],
   "source": [
    "df.sample()"
   ]
  },
  {
   "cell_type": "code",
   "execution_count": 9,
   "metadata": {},
   "outputs": [
    {
     "data": {
      "text/html": [
       "<div>\n",
       "<style scoped>\n",
       "    .dataframe tbody tr th:only-of-type {\n",
       "        vertical-align: middle;\n",
       "    }\n",
       "\n",
       "    .dataframe tbody tr th {\n",
       "        vertical-align: top;\n",
       "    }\n",
       "\n",
       "    .dataframe thead th {\n",
       "        text-align: right;\n",
       "    }\n",
       "</style>\n",
       "<table border=\"1\" class=\"dataframe\">\n",
       "  <thead>\n",
       "    <tr style=\"text-align: right;\">\n",
       "      <th></th>\n",
       "      <th>0</th>\n",
       "      <th>1</th>\n",
       "      <th>2</th>\n",
       "      <th>3</th>\n",
       "    </tr>\n",
       "  </thead>\n",
       "  <tbody>\n",
       "    <tr>\n",
       "      <th>count</th>\n",
       "      <td>10</td>\n",
       "      <td>5</td>\n",
       "      <td>4</td>\n",
       "      <td>2</td>\n",
       "    </tr>\n",
       "    <tr>\n",
       "      <th>unique</th>\n",
       "      <td>7</td>\n",
       "      <td>4</td>\n",
       "      <td>2</td>\n",
       "      <td>1</td>\n",
       "    </tr>\n",
       "    <tr>\n",
       "      <th>top</th>\n",
       "      <td>cafe</td>\n",
       "      <td>pao</td>\n",
       "      <td>pao</td>\n",
       "      <td>manteiga</td>\n",
       "    </tr>\n",
       "    <tr>\n",
       "      <th>freq</th>\n",
       "      <td>2</td>\n",
       "      <td>2</td>\n",
       "      <td>2</td>\n",
       "      <td>2</td>\n",
       "    </tr>\n",
       "  </tbody>\n",
       "</table>\n",
       "</div>"
      ],
      "text/plain": [
       "           0    1    2         3\n",
       "count     10    5    4         2\n",
       "unique     7    4    2         1\n",
       "top     cafe  pao  pao  manteiga\n",
       "freq       2    2    2         2"
      ]
     },
     "execution_count": 9,
     "metadata": {},
     "output_type": "execute_result"
    }
   ],
   "source": [
    "df.describe()"
   ]
  },
  {
   "cell_type": "code",
   "execution_count": 19,
   "metadata": {},
   "outputs": [
    {
     "data": {
      "text/plain": [
       "array([['leite', 'cerveja', 'pao', 'manteiga'],\n",
       "       ['cafe', 'pao', 'manteiga', nan],\n",
       "       ['cafe', 'pao', 'manteiga', nan],\n",
       "       ['leite', 'cafe', 'pao', 'manteiga'],\n",
       "       ['cerveja', nan, nan, nan],\n",
       "       ['manteiga', nan, nan, nan],\n",
       "       ['pao', nan, nan, nan],\n",
       "       ['feijao', nan, nan, nan],\n",
       "       ['arroz', 'feijao', nan, nan],\n",
       "       ['arroz', nan, nan, nan]], dtype=object)"
      ]
     },
     "execution_count": 19,
     "metadata": {},
     "output_type": "execute_result"
    }
   ],
   "source": [
    "# Dicionario contendo os itens \n",
    "df.values"
   ]
  },
  {
   "cell_type": "code",
   "execution_count": 10,
   "metadata": {},
   "outputs": [],
   "source": [
    "# É criado uma lista vazia chamada transacoes para que seja alocado os itens do DataFrame\n",
    "# através dos indices gerados pelo \"for\" no range 0,10 é utilizado o método .append (para acrescentar)\n",
    "# para que seja incluido na lista vazia os itens. É essencial que os dados dessa lista seja uma string\n",
    "# O primeiro for é para acessar a linha que contém os itens e o segundo para criar os indices para as\n",
    "# colunas que são a quantidade de itens que compõe essa lista\n",
    "transacoes = []\n",
    "for i in range(0,10):\n",
    "    transacoes.append([str(df.values[i,j]) \n",
    "                       for j in range(0,4)])"
   ]
  },
  {
   "cell_type": "code",
   "execution_count": 11,
   "metadata": {},
   "outputs": [],
   "source": [
    "# Chamamos \"apriori\" da biblioteca apyori e colocamos alguns parâemtros para o estudo\n",
    "# no primeiro parâmetro usamos a lista criada transacoes, min_support (que realiza uma contagem simpes dos itens)\n",
    "# min_confidence (seria a confiança mínima na qual um % de compras, por exemplo, favorece a aquisição de outro produto)\n",
    "# lift: coeficiente de interesse serve para avaliar as dependências entre o antecedente e o consequente da regra\n",
    "# A sua variação está entre 0 e infinito. A sua leitura é bem simples quanto > o lift mais interessante é a regra,\n",
    "# pois maior é a depepência ente os itens que a constituem.\n",
    "# min_lenght é a quantidade de produtos em cada cesta. Aqui eu limito para mostrar apenas a cesta que contém dois produtos\n",
    "# a serem estudados\n",
    "# lift abaixo de um chama-se desassociação, ou seja, quem compra um produto A e B não compra C\n",
    "regras = apriori(transacoes, min_support = 0.1, min_confidence = 0.8, min_lift = 2, min_lenght = 2)"
   ]
  },
  {
   "cell_type": "code",
   "execution_count": 12,
   "metadata": {},
   "outputs": [
    {
     "data": {
      "text/plain": [
       "[RelationRecord(items=frozenset({'manteiga', 'cafe'}), support=0.3, ordered_statistics=[OrderedStatistic(items_base=frozenset({'cafe'}), items_add=frozenset({'manteiga'}), confidence=1.0, lift=2.0)]),\n",
       " RelationRecord(items=frozenset({'pao', 'cafe'}), support=0.3, ordered_statistics=[OrderedStatistic(items_base=frozenset({'cafe'}), items_add=frozenset({'pao'}), confidence=1.0, lift=2.0)]),\n",
       " RelationRecord(items=frozenset({'manteiga', 'leite'}), support=0.2, ordered_statistics=[OrderedStatistic(items_base=frozenset({'leite'}), items_add=frozenset({'manteiga'}), confidence=1.0, lift=2.0)]),\n",
       " RelationRecord(items=frozenset({'pao', 'leite'}), support=0.2, ordered_statistics=[OrderedStatistic(items_base=frozenset({'leite'}), items_add=frozenset({'pao'}), confidence=1.0, lift=2.0)]),\n",
       " RelationRecord(items=frozenset({'manteiga', 'leite', 'cafe'}), support=0.1, ordered_statistics=[OrderedStatistic(items_base=frozenset({'leite', 'cafe'}), items_add=frozenset({'manteiga'}), confidence=1.0, lift=2.0)]),\n",
       " RelationRecord(items=frozenset({'pao', 'leite', 'cafe'}), support=0.1, ordered_statistics=[OrderedStatistic(items_base=frozenset({'leite', 'cafe'}), items_add=frozenset({'pao'}), confidence=1.0, lift=2.0)]),\n",
       " RelationRecord(items=frozenset({'nan', 'manteiga', 'cafe'}), support=0.2, ordered_statistics=[OrderedStatistic(items_base=frozenset({'nan', 'cafe'}), items_add=frozenset({'manteiga'}), confidence=1.0, lift=2.0)]),\n",
       " RelationRecord(items=frozenset({'manteiga', 'pao', 'cafe'}), support=0.3, ordered_statistics=[OrderedStatistic(items_base=frozenset({'cafe'}), items_add=frozenset({'manteiga', 'pao'}), confidence=1.0, lift=2.5), OrderedStatistic(items_base=frozenset({'manteiga', 'cafe'}), items_add=frozenset({'pao'}), confidence=1.0, lift=2.0), OrderedStatistic(items_base=frozenset({'pao', 'cafe'}), items_add=frozenset({'manteiga'}), confidence=1.0, lift=2.0)]),\n",
       " RelationRecord(items=frozenset({'nan', 'pao', 'cafe'}), support=0.2, ordered_statistics=[OrderedStatistic(items_base=frozenset({'nan', 'cafe'}), items_add=frozenset({'pao'}), confidence=1.0, lift=2.0)]),\n",
       " RelationRecord(items=frozenset({'cerveja', 'manteiga', 'leite'}), support=0.1, ordered_statistics=[OrderedStatistic(items_base=frozenset({'cerveja', 'leite'}), items_add=frozenset({'manteiga'}), confidence=1.0, lift=2.0), OrderedStatistic(items_base=frozenset({'cerveja', 'manteiga'}), items_add=frozenset({'leite'}), confidence=1.0, lift=5.0)]),\n",
       " RelationRecord(items=frozenset({'cerveja', 'pao', 'leite'}), support=0.1, ordered_statistics=[OrderedStatistic(items_base=frozenset({'cerveja', 'leite'}), items_add=frozenset({'pao'}), confidence=1.0, lift=2.0), OrderedStatistic(items_base=frozenset({'cerveja', 'pao'}), items_add=frozenset({'leite'}), confidence=1.0, lift=5.0)]),\n",
       " RelationRecord(items=frozenset({'cerveja', 'manteiga', 'pao'}), support=0.1, ordered_statistics=[OrderedStatistic(items_base=frozenset({'cerveja', 'manteiga'}), items_add=frozenset({'pao'}), confidence=1.0, lift=2.0), OrderedStatistic(items_base=frozenset({'cerveja', 'pao'}), items_add=frozenset({'manteiga'}), confidence=1.0, lift=2.0)]),\n",
       " RelationRecord(items=frozenset({'manteiga', 'pao', 'leite'}), support=0.2, ordered_statistics=[OrderedStatistic(items_base=frozenset({'leite'}), items_add=frozenset({'manteiga', 'pao'}), confidence=1.0, lift=2.5), OrderedStatistic(items_base=frozenset({'manteiga', 'leite'}), items_add=frozenset({'pao'}), confidence=1.0, lift=2.0), OrderedStatistic(items_base=frozenset({'pao', 'leite'}), items_add=frozenset({'manteiga'}), confidence=1.0, lift=2.0)]),\n",
       " RelationRecord(items=frozenset({'pao', 'manteiga', 'leite', 'cafe'}), support=0.1, ordered_statistics=[OrderedStatistic(items_base=frozenset({'leite', 'cafe'}), items_add=frozenset({'manteiga', 'pao'}), confidence=1.0, lift=2.5), OrderedStatistic(items_base=frozenset({'manteiga', 'leite', 'cafe'}), items_add=frozenset({'pao'}), confidence=1.0, lift=2.0), OrderedStatistic(items_base=frozenset({'pao', 'leite', 'cafe'}), items_add=frozenset({'manteiga'}), confidence=1.0, lift=2.0)]),\n",
       " RelationRecord(items=frozenset({'nan', 'manteiga', 'pao', 'cafe'}), support=0.2, ordered_statistics=[OrderedStatistic(items_base=frozenset({'nan', 'cafe'}), items_add=frozenset({'manteiga', 'pao'}), confidence=1.0, lift=2.5), OrderedStatistic(items_base=frozenset({'nan', 'manteiga', 'cafe'}), items_add=frozenset({'pao'}), confidence=1.0, lift=2.0), OrderedStatistic(items_base=frozenset({'nan', 'pao', 'cafe'}), items_add=frozenset({'manteiga'}), confidence=1.0, lift=2.0), OrderedStatistic(items_base=frozenset({'nan', 'manteiga', 'pao'}), items_add=frozenset({'cafe'}), confidence=1.0, lift=3.3333333333333335)]),\n",
       " RelationRecord(items=frozenset({'cerveja', 'manteiga', 'pao', 'leite'}), support=0.1, ordered_statistics=[OrderedStatistic(items_base=frozenset({'cerveja', 'leite'}), items_add=frozenset({'manteiga', 'pao'}), confidence=1.0, lift=2.5), OrderedStatistic(items_base=frozenset({'cerveja', 'manteiga'}), items_add=frozenset({'pao', 'leite'}), confidence=1.0, lift=5.0), OrderedStatistic(items_base=frozenset({'cerveja', 'pao'}), items_add=frozenset({'manteiga', 'leite'}), confidence=1.0, lift=5.0), OrderedStatistic(items_base=frozenset({'cerveja', 'manteiga', 'leite'}), items_add=frozenset({'pao'}), confidence=1.0, lift=2.0), OrderedStatistic(items_base=frozenset({'cerveja', 'pao', 'leite'}), items_add=frozenset({'manteiga'}), confidence=1.0, lift=2.0), OrderedStatistic(items_base=frozenset({'cerveja', 'manteiga', 'pao'}), items_add=frozenset({'leite'}), confidence=1.0, lift=5.0)])]"
      ]
     },
     "execution_count": 12,
     "metadata": {},
     "output_type": "execute_result"
    }
   ],
   "source": [
    "resultados = list(regras)\n",
    "resultados"
   ]
  },
  {
   "cell_type": "code",
   "execution_count": 13,
   "metadata": {},
   "outputs": [
    {
     "data": {
      "text/plain": [
       "[[frozenset({'cafe', 'manteiga'}),\n",
       "  0.3,\n",
       "  [OrderedStatistic(items_base=frozenset({'cafe'}), items_add=frozenset({'manteiga'}), confidence=1.0, lift=2.0)]],\n",
       " [frozenset({'cafe', 'pao'}),\n",
       "  0.3,\n",
       "  [OrderedStatistic(items_base=frozenset({'cafe'}), items_add=frozenset({'pao'}), confidence=1.0, lift=2.0)]],\n",
       " [frozenset({'leite', 'manteiga'}),\n",
       "  0.2,\n",
       "  [OrderedStatistic(items_base=frozenset({'leite'}), items_add=frozenset({'manteiga'}), confidence=1.0, lift=2.0)]],\n",
       " [frozenset({'leite', 'pao'}),\n",
       "  0.2,\n",
       "  [OrderedStatistic(items_base=frozenset({'leite'}), items_add=frozenset({'pao'}), confidence=1.0, lift=2.0)]],\n",
       " [frozenset({'cafe', 'leite', 'manteiga'}),\n",
       "  0.1,\n",
       "  [OrderedStatistic(items_base=frozenset({'leite', 'cafe'}), items_add=frozenset({'manteiga'}), confidence=1.0, lift=2.0)]],\n",
       " [frozenset({'cafe', 'leite', 'pao'}),\n",
       "  0.1,\n",
       "  [OrderedStatistic(items_base=frozenset({'leite', 'cafe'}), items_add=frozenset({'pao'}), confidence=1.0, lift=2.0)]],\n",
       " [frozenset({'cafe', 'manteiga', 'nan'}),\n",
       "  0.2,\n",
       "  [OrderedStatistic(items_base=frozenset({'nan', 'cafe'}), items_add=frozenset({'manteiga'}), confidence=1.0, lift=2.0)]],\n",
       " [frozenset({'cafe', 'manteiga', 'pao'}),\n",
       "  0.3,\n",
       "  [OrderedStatistic(items_base=frozenset({'cafe'}), items_add=frozenset({'manteiga', 'pao'}), confidence=1.0, lift=2.5),\n",
       "   OrderedStatistic(items_base=frozenset({'manteiga', 'cafe'}), items_add=frozenset({'pao'}), confidence=1.0, lift=2.0),\n",
       "   OrderedStatistic(items_base=frozenset({'pao', 'cafe'}), items_add=frozenset({'manteiga'}), confidence=1.0, lift=2.0)]],\n",
       " [frozenset({'cafe', 'nan', 'pao'}),\n",
       "  0.2,\n",
       "  [OrderedStatistic(items_base=frozenset({'nan', 'cafe'}), items_add=frozenset({'pao'}), confidence=1.0, lift=2.0)]],\n",
       " [frozenset({'cerveja', 'leite', 'manteiga'}),\n",
       "  0.1,\n",
       "  [OrderedStatistic(items_base=frozenset({'cerveja', 'leite'}), items_add=frozenset({'manteiga'}), confidence=1.0, lift=2.0),\n",
       "   OrderedStatistic(items_base=frozenset({'cerveja', 'manteiga'}), items_add=frozenset({'leite'}), confidence=1.0, lift=5.0)]],\n",
       " [frozenset({'cerveja', 'leite', 'pao'}),\n",
       "  0.1,\n",
       "  [OrderedStatistic(items_base=frozenset({'cerveja', 'leite'}), items_add=frozenset({'pao'}), confidence=1.0, lift=2.0),\n",
       "   OrderedStatistic(items_base=frozenset({'cerveja', 'pao'}), items_add=frozenset({'leite'}), confidence=1.0, lift=5.0)]],\n",
       " [frozenset({'cerveja', 'manteiga', 'pao'}),\n",
       "  0.1,\n",
       "  [OrderedStatistic(items_base=frozenset({'cerveja', 'manteiga'}), items_add=frozenset({'pao'}), confidence=1.0, lift=2.0),\n",
       "   OrderedStatistic(items_base=frozenset({'cerveja', 'pao'}), items_add=frozenset({'manteiga'}), confidence=1.0, lift=2.0)]],\n",
       " [frozenset({'leite', 'manteiga', 'pao'}),\n",
       "  0.2,\n",
       "  [OrderedStatistic(items_base=frozenset({'leite'}), items_add=frozenset({'manteiga', 'pao'}), confidence=1.0, lift=2.5),\n",
       "   OrderedStatistic(items_base=frozenset({'manteiga', 'leite'}), items_add=frozenset({'pao'}), confidence=1.0, lift=2.0),\n",
       "   OrderedStatistic(items_base=frozenset({'pao', 'leite'}), items_add=frozenset({'manteiga'}), confidence=1.0, lift=2.0)]],\n",
       " [frozenset({'cafe', 'leite', 'manteiga', 'pao'}),\n",
       "  0.1,\n",
       "  [OrderedStatistic(items_base=frozenset({'leite', 'cafe'}), items_add=frozenset({'manteiga', 'pao'}), confidence=1.0, lift=2.5),\n",
       "   OrderedStatistic(items_base=frozenset({'manteiga', 'leite', 'cafe'}), items_add=frozenset({'pao'}), confidence=1.0, lift=2.0),\n",
       "   OrderedStatistic(items_base=frozenset({'pao', 'leite', 'cafe'}), items_add=frozenset({'manteiga'}), confidence=1.0, lift=2.0)]],\n",
       " [frozenset({'cafe', 'manteiga', 'nan', 'pao'}),\n",
       "  0.2,\n",
       "  [OrderedStatistic(items_base=frozenset({'nan', 'cafe'}), items_add=frozenset({'manteiga', 'pao'}), confidence=1.0, lift=2.5),\n",
       "   OrderedStatistic(items_base=frozenset({'nan', 'manteiga', 'cafe'}), items_add=frozenset({'pao'}), confidence=1.0, lift=2.0),\n",
       "   OrderedStatistic(items_base=frozenset({'nan', 'pao', 'cafe'}), items_add=frozenset({'manteiga'}), confidence=1.0, lift=2.0),\n",
       "   OrderedStatistic(items_base=frozenset({'nan', 'manteiga', 'pao'}), items_add=frozenset({'cafe'}), confidence=1.0, lift=3.3333333333333335)]],\n",
       " [frozenset({'cerveja', 'leite', 'manteiga', 'pao'}),\n",
       "  0.1,\n",
       "  [OrderedStatistic(items_base=frozenset({'cerveja', 'leite'}), items_add=frozenset({'manteiga', 'pao'}), confidence=1.0, lift=2.5),\n",
       "   OrderedStatistic(items_base=frozenset({'cerveja', 'manteiga'}), items_add=frozenset({'pao', 'leite'}), confidence=1.0, lift=5.0),\n",
       "   OrderedStatistic(items_base=frozenset({'cerveja', 'pao'}), items_add=frozenset({'manteiga', 'leite'}), confidence=1.0, lift=5.0),\n",
       "   OrderedStatistic(items_base=frozenset({'cerveja', 'manteiga', 'leite'}), items_add=frozenset({'pao'}), confidence=1.0, lift=2.0),\n",
       "   OrderedStatistic(items_base=frozenset({'cerveja', 'pao', 'leite'}), items_add=frozenset({'manteiga'}), confidence=1.0, lift=2.0),\n",
       "   OrderedStatistic(items_base=frozenset({'cerveja', 'manteiga', 'pao'}), items_add=frozenset({'leite'}), confidence=1.0, lift=5.0)]]]"
      ]
     },
     "execution_count": 13,
     "metadata": {},
     "output_type": "execute_result"
    }
   ],
   "source": [
    "resultados2 = [list(x) for x in resultados]\n",
    "resultados2"
   ]
  },
  {
   "cell_type": "code",
   "execution_count": 14,
   "metadata": {},
   "outputs": [
    {
     "data": {
      "text/plain": [
       "[[[frozenset({'cafe'}), frozenset({'manteiga'}), 1.0, 2.0]],\n",
       " [[frozenset({'cafe'}), frozenset({'pao'}), 1.0, 2.0]],\n",
       " [[frozenset({'leite'}), frozenset({'manteiga'}), 1.0, 2.0]]]"
      ]
     },
     "execution_count": 14,
     "metadata": {},
     "output_type": "execute_result"
    }
   ],
   "source": [
    "resultadoFormatado = []\n",
    "for j in range(0, 3):\n",
    "    resultadoFormatado.append([list(x) for x in resultados2[j][2]])\n",
    "resultadoFormatado"
   ]
  }
 ],
 "metadata": {
  "kernelspec": {
   "display_name": "Python 3",
   "language": "python",
   "name": "python3"
  },
  "language_info": {
   "codemirror_mode": {
    "name": "ipython",
    "version": 3
   },
   "file_extension": ".py",
   "mimetype": "text/x-python",
   "name": "python",
   "nbconvert_exporter": "python",
   "pygments_lexer": "ipython3",
   "version": "3.8.5"
  }
 },
 "nbformat": 4,
 "nbformat_minor": 4
}
