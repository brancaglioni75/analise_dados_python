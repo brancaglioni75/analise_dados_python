{
 "cells": [
  {
   "cell_type": "markdown",
   "metadata": {},
   "source": [
    "## Censo Escolar na Cidade de São Paulo - 1996 a 2015\n",
    "Estudo sobre o censo escolar na Cidade de São Paulo\n",
    "\n",
    "link->http://dados.prefeitura.sp.gov.br/dataset/censo-escolar-na-cidade-de-sao-paulo-1996-a-2015"
   ]
  },
  {
   "cell_type": "code",
   "execution_count": 1,
   "metadata": {},
   "outputs": [],
   "source": [
    "# Importando as bibliotecas\n",
    "\n",
    "import pandas as pd\n",
    "%matplotlib inline\n"
   ]
  },
  {
   "cell_type": "code",
   "execution_count": 2,
   "metadata": {},
   "outputs": [
    {
     "name": "stderr",
     "output_type": "stream",
     "text": [
      "C:\\Users\\Lenovo\\anaconda3\\lib\\site-packages\\IPython\\core\\interactiveshell.py:3146: DtypeWarning: Columns (6,8,11,17,18,19,20,111,240) have mixed types.Specify dtype option on import or set low_memory=False.\n",
      "  has_raised = await self.run_ast_nodes(code_ast.body, cell_name,\n"
     ]
    },
    {
     "data": {
      "text/html": [
       "<div>\n",
       "<style scoped>\n",
       "    .dataframe tbody tr th:only-of-type {\n",
       "        vertical-align: middle;\n",
       "    }\n",
       "\n",
       "    .dataframe tbody tr th {\n",
       "        vertical-align: top;\n",
       "    }\n",
       "\n",
       "    .dataframe thead th {\n",
       "        text-align: right;\n",
       "    }\n",
       "</style>\n",
       "<table border=\"1\" class=\"dataframe\">\n",
       "  <thead>\n",
       "    <tr style=\"text-align: right;\">\n",
       "      <th></th>\n",
       "      <th>CODMEC</th>\n",
       "      <th>CODEOL</th>\n",
       "      <th>ANO</th>\n",
       "      <th>TIPOESC</th>\n",
       "      <th>NOME</th>\n",
       "      <th>DEP</th>\n",
       "      <th>DEPADM</th>\n",
       "      <th>SITUAÇÃO</th>\n",
       "      <th>MAIS EDUCAÇÃO</th>\n",
       "      <th>Qtde_Docentes</th>\n",
       "      <th>...</th>\n",
       "      <th>TOT_EE</th>\n",
       "      <th>TIPO_EE</th>\n",
       "      <th>EE_Creche</th>\n",
       "      <th>EE_Pre</th>\n",
       "      <th>EE_Fund</th>\n",
       "      <th>EE_Med</th>\n",
       "      <th>EE_EJA</th>\n",
       "      <th>EE_EP</th>\n",
       "      <th>ALEDESP</th>\n",
       "      <th>TOTAL_ALUNOS</th>\n",
       "    </tr>\n",
       "  </thead>\n",
       "  <tbody>\n",
       "    <tr>\n",
       "      <th>0</th>\n",
       "      <td>35191292</td>\n",
       "      <td>306602.0</td>\n",
       "      <td>2005</td>\n",
       "      <td>PARINF</td>\n",
       "      <td>FIFO ESCOLA DE EDUCACAO INFANTIL</td>\n",
       "      <td>Privada</td>\n",
       "      <td>Privada</td>\n",
       "      <td>NaN</td>\n",
       "      <td>NaN</td>\n",
       "      <td>NaN</td>\n",
       "      <td>...</td>\n",
       "      <td>NaN</td>\n",
       "      <td>NaN</td>\n",
       "      <td>NaN</td>\n",
       "      <td>NaN</td>\n",
       "      <td>NaN</td>\n",
       "      <td>NaN</td>\n",
       "      <td>NaN</td>\n",
       "      <td>NaN</td>\n",
       "      <td>0.0</td>\n",
       "      <td>6</td>\n",
       "    </tr>\n",
       "    <tr>\n",
       "      <th>1</th>\n",
       "      <td>35055347</td>\n",
       "      <td>95401.0</td>\n",
       "      <td>2004</td>\n",
       "      <td>EMEF</td>\n",
       "      <td>PRUDENTE DE MORAIS, PRES. ,EMEF</td>\n",
       "      <td>Municipal</td>\n",
       "      <td>Pública</td>\n",
       "      <td>NaN</td>\n",
       "      <td>NaN</td>\n",
       "      <td>NaN</td>\n",
       "      <td>...</td>\n",
       "      <td>6.0</td>\n",
       "      <td>ClasseComum</td>\n",
       "      <td>NaN</td>\n",
       "      <td>NaN</td>\n",
       "      <td>NaN</td>\n",
       "      <td>NaN</td>\n",
       "      <td>NaN</td>\n",
       "      <td>NaN</td>\n",
       "      <td>0.0</td>\n",
       "      <td>1272</td>\n",
       "    </tr>\n",
       "    <tr>\n",
       "      <th>2</th>\n",
       "      <td>35199321</td>\n",
       "      <td>307534.0</td>\n",
       "      <td>2012</td>\n",
       "      <td>PARINF</td>\n",
       "      <td>ALPHA LESTE EEI</td>\n",
       "      <td>privada</td>\n",
       "      <td>particular</td>\n",
       "      <td>NaN</td>\n",
       "      <td>NaN</td>\n",
       "      <td>3.0</td>\n",
       "      <td>...</td>\n",
       "      <td>NaN</td>\n",
       "      <td>NaN</td>\n",
       "      <td>NaN</td>\n",
       "      <td>NaN</td>\n",
       "      <td>NaN</td>\n",
       "      <td>NaN</td>\n",
       "      <td>NaN</td>\n",
       "      <td>NaN</td>\n",
       "      <td>NaN</td>\n",
       "      <td>22</td>\n",
       "    </tr>\n",
       "    <tr>\n",
       "      <th>3</th>\n",
       "      <td>35199254</td>\n",
       "      <td>307504.0</td>\n",
       "      <td>2012</td>\n",
       "      <td>PARINF</td>\n",
       "      <td>ESC PART BRILHO DO SOL</td>\n",
       "      <td>privada</td>\n",
       "      <td>particular</td>\n",
       "      <td>NaN</td>\n",
       "      <td>NaN</td>\n",
       "      <td>5.0</td>\n",
       "      <td>...</td>\n",
       "      <td>1.0</td>\n",
       "      <td>ClasseComum</td>\n",
       "      <td>NaN</td>\n",
       "      <td>NaN</td>\n",
       "      <td>NaN</td>\n",
       "      <td>NaN</td>\n",
       "      <td>NaN</td>\n",
       "      <td>NaN</td>\n",
       "      <td>NaN</td>\n",
       "      <td>56</td>\n",
       "    </tr>\n",
       "    <tr>\n",
       "      <th>4</th>\n",
       "      <td>35434541</td>\n",
       "      <td>307436.0</td>\n",
       "      <td>2012</td>\n",
       "      <td>PARINF</td>\n",
       "      <td>FREITAS MIGUEL ESCOLA DE EDUCACAO INFANTIL</td>\n",
       "      <td>privada</td>\n",
       "      <td>particular</td>\n",
       "      <td>NaN</td>\n",
       "      <td>NaN</td>\n",
       "      <td>4.0</td>\n",
       "      <td>...</td>\n",
       "      <td>NaN</td>\n",
       "      <td>NaN</td>\n",
       "      <td>NaN</td>\n",
       "      <td>NaN</td>\n",
       "      <td>NaN</td>\n",
       "      <td>NaN</td>\n",
       "      <td>NaN</td>\n",
       "      <td>NaN</td>\n",
       "      <td>NaN</td>\n",
       "      <td>52</td>\n",
       "    </tr>\n",
       "  </tbody>\n",
       "</table>\n",
       "<p>5 rows × 249 columns</p>\n",
       "</div>"
      ],
      "text/plain": [
       "     CODMEC    CODEOL   ANO TIPOESC  \\\n",
       "0  35191292  306602.0  2005  PARINF   \n",
       "1  35055347   95401.0  2004    EMEF   \n",
       "2  35199321  307534.0  2012  PARINF   \n",
       "3  35199254  307504.0  2012  PARINF   \n",
       "4  35434541  307436.0  2012  PARINF   \n",
       "\n",
       "                                         NOME        DEP      DEPADM  \\\n",
       "0            FIFO ESCOLA DE EDUCACAO INFANTIL    Privada     Privada   \n",
       "1             PRUDENTE DE MORAIS, PRES. ,EMEF  Municipal     Pública   \n",
       "2                             ALPHA LESTE EEI    privada  particular   \n",
       "3                      ESC PART BRILHO DO SOL    privada  particular   \n",
       "4  FREITAS MIGUEL ESCOLA DE EDUCACAO INFANTIL    privada  particular   \n",
       "\n",
       "   SITUAÇÃO MAIS EDUCAÇÃO  Qtde_Docentes  ...  TOT_EE      TIPO_EE  EE_Creche  \\\n",
       "0       NaN           NaN            NaN  ...     NaN          NaN        NaN   \n",
       "1       NaN           NaN            NaN  ...     6.0  ClasseComum        NaN   \n",
       "2       NaN           NaN            3.0  ...     NaN          NaN        NaN   \n",
       "3       NaN           NaN            5.0  ...     1.0  ClasseComum        NaN   \n",
       "4       NaN           NaN            4.0  ...     NaN          NaN        NaN   \n",
       "\n",
       "  EE_Pre EE_Fund EE_Med EE_EJA EE_EP ALEDESP TOTAL_ALUNOS  \n",
       "0    NaN     NaN    NaN    NaN   NaN     0.0            6  \n",
       "1    NaN     NaN    NaN    NaN   NaN     0.0         1272  \n",
       "2    NaN     NaN    NaN    NaN   NaN     NaN           22  \n",
       "3    NaN     NaN    NaN    NaN   NaN     NaN           56  \n",
       "4    NaN     NaN    NaN    NaN   NaN     NaN           52  \n",
       "\n",
       "[5 rows x 249 columns]"
      ]
     },
     "execution_count": 2,
     "metadata": {},
     "output_type": "execute_result"
    }
   ],
   "source": [
    "# Importando o arquivo csv\n",
    "df = pd.read_csv('censoevolutivotodasasredes.csv', sep=';', encoding='cp1252')\n",
    "# Mostrando as cinco primeiras linhas\n",
    "df.head()"
   ]
  },
  {
   "cell_type": "code",
   "execution_count": 3,
   "metadata": {},
   "outputs": [
    {
     "data": {
      "text/html": [
       "<div>\n",
       "<style scoped>\n",
       "    .dataframe tbody tr th:only-of-type {\n",
       "        vertical-align: middle;\n",
       "    }\n",
       "\n",
       "    .dataframe tbody tr th {\n",
       "        vertical-align: top;\n",
       "    }\n",
       "\n",
       "    .dataframe thead th {\n",
       "        text-align: right;\n",
       "    }\n",
       "</style>\n",
       "<table border=\"1\" class=\"dataframe\">\n",
       "  <thead>\n",
       "    <tr style=\"text-align: right;\">\n",
       "      <th></th>\n",
       "      <th>CODMEC</th>\n",
       "      <th>CODEOL</th>\n",
       "      <th>ANO</th>\n",
       "      <th>TIPOESC</th>\n",
       "      <th>NOME</th>\n",
       "      <th>DEP</th>\n",
       "      <th>DEPADM</th>\n",
       "      <th>SITUAÇÃO</th>\n",
       "      <th>MAIS EDUCAÇÃO</th>\n",
       "      <th>Qtde_Docentes</th>\n",
       "      <th>...</th>\n",
       "      <th>TOT_EE</th>\n",
       "      <th>TIPO_EE</th>\n",
       "      <th>EE_Creche</th>\n",
       "      <th>EE_Pre</th>\n",
       "      <th>EE_Fund</th>\n",
       "      <th>EE_Med</th>\n",
       "      <th>EE_EJA</th>\n",
       "      <th>EE_EP</th>\n",
       "      <th>ALEDESP</th>\n",
       "      <th>TOTAL_ALUNOS</th>\n",
       "    </tr>\n",
       "  </thead>\n",
       "  <tbody>\n",
       "    <tr>\n",
       "      <th>104287</th>\n",
       "      <td>35985156</td>\n",
       "      <td>NaN</td>\n",
       "      <td>2015</td>\n",
       "      <td>EE</td>\n",
       "      <td>CEL JTO A EE LEOPOLDO SANTANA PROFESSOR</td>\n",
       "      <td>ESTADUAL</td>\n",
       "      <td>NaN</td>\n",
       "      <td>NaN</td>\n",
       "      <td>NaN</td>\n",
       "      <td>NaN</td>\n",
       "      <td>...</td>\n",
       "      <td>0.0</td>\n",
       "      <td>0</td>\n",
       "      <td>0.0</td>\n",
       "      <td>0.0</td>\n",
       "      <td>0.0</td>\n",
       "      <td>0.0</td>\n",
       "      <td>0.0</td>\n",
       "      <td>0.0</td>\n",
       "      <td>0.0</td>\n",
       "      <td>0</td>\n",
       "    </tr>\n",
       "    <tr>\n",
       "      <th>104288</th>\n",
       "      <td>35985168</td>\n",
       "      <td>NaN</td>\n",
       "      <td>2015</td>\n",
       "      <td>EE</td>\n",
       "      <td>CEL JTO A EE PAULINO NUNES ESPOSO</td>\n",
       "      <td>ESTADUAL</td>\n",
       "      <td>NaN</td>\n",
       "      <td>NaN</td>\n",
       "      <td>NaN</td>\n",
       "      <td>NaN</td>\n",
       "      <td>...</td>\n",
       "      <td>0.0</td>\n",
       "      <td>0</td>\n",
       "      <td>0.0</td>\n",
       "      <td>0.0</td>\n",
       "      <td>0.0</td>\n",
       "      <td>0.0</td>\n",
       "      <td>0.0</td>\n",
       "      <td>0.0</td>\n",
       "      <td>0.0</td>\n",
       "      <td>0</td>\n",
       "    </tr>\n",
       "    <tr>\n",
       "      <th>104289</th>\n",
       "      <td>35985685</td>\n",
       "      <td>NaN</td>\n",
       "      <td>2015</td>\n",
       "      <td>EE</td>\n",
       "      <td>CEL JTO A EE PAULO EGYDIO O CARVALHO SENADOR</td>\n",
       "      <td>ESTADUAL</td>\n",
       "      <td>NaN</td>\n",
       "      <td>NaN</td>\n",
       "      <td>NaN</td>\n",
       "      <td>NaN</td>\n",
       "      <td>...</td>\n",
       "      <td>0.0</td>\n",
       "      <td>0</td>\n",
       "      <td>0.0</td>\n",
       "      <td>0.0</td>\n",
       "      <td>0.0</td>\n",
       "      <td>0.0</td>\n",
       "      <td>0.0</td>\n",
       "      <td>0.0</td>\n",
       "      <td>0.0</td>\n",
       "      <td>0</td>\n",
       "    </tr>\n",
       "    <tr>\n",
       "      <th>104290</th>\n",
       "      <td>35985788</td>\n",
       "      <td>NaN</td>\n",
       "      <td>2015</td>\n",
       "      <td>EE</td>\n",
       "      <td>CEL JTO A EE JULIA MACEDO PANTOJA PROFESSORA</td>\n",
       "      <td>ESTADUAL</td>\n",
       "      <td>NaN</td>\n",
       "      <td>NaN</td>\n",
       "      <td>NaN</td>\n",
       "      <td>NaN</td>\n",
       "      <td>...</td>\n",
       "      <td>0.0</td>\n",
       "      <td>0</td>\n",
       "      <td>0.0</td>\n",
       "      <td>0.0</td>\n",
       "      <td>0.0</td>\n",
       "      <td>0.0</td>\n",
       "      <td>0.0</td>\n",
       "      <td>0.0</td>\n",
       "      <td>0.0</td>\n",
       "      <td>0</td>\n",
       "    </tr>\n",
       "    <tr>\n",
       "      <th>104291</th>\n",
       "      <td>35990012</td>\n",
       "      <td>NaN</td>\n",
       "      <td>2015</td>\n",
       "      <td>ETF</td>\n",
       "      <td>INSTITUTO FEDERAL DE SAO PAULO CAMPUS-SAO PAULO</td>\n",
       "      <td>Federal</td>\n",
       "      <td>NaN</td>\n",
       "      <td>NaN</td>\n",
       "      <td>NaN</td>\n",
       "      <td>NaN</td>\n",
       "      <td>...</td>\n",
       "      <td>3.0</td>\n",
       "      <td>0</td>\n",
       "      <td>0.0</td>\n",
       "      <td>0.0</td>\n",
       "      <td>0.0</td>\n",
       "      <td>0.0</td>\n",
       "      <td>0.0</td>\n",
       "      <td>0.0</td>\n",
       "      <td>0.0</td>\n",
       "      <td>1427</td>\n",
       "    </tr>\n",
       "  </tbody>\n",
       "</table>\n",
       "<p>5 rows × 249 columns</p>\n",
       "</div>"
      ],
      "text/plain": [
       "          CODMEC  CODEOL   ANO TIPOESC  \\\n",
       "104287  35985156     NaN  2015      EE   \n",
       "104288  35985168     NaN  2015      EE   \n",
       "104289  35985685     NaN  2015      EE   \n",
       "104290  35985788     NaN  2015      EE   \n",
       "104291  35990012     NaN  2015     ETF   \n",
       "\n",
       "                                                   NOME       DEP DEPADM  \\\n",
       "104287          CEL JTO A EE LEOPOLDO SANTANA PROFESSOR  ESTADUAL    NaN   \n",
       "104288                CEL JTO A EE PAULINO NUNES ESPOSO  ESTADUAL    NaN   \n",
       "104289     CEL JTO A EE PAULO EGYDIO O CARVALHO SENADOR  ESTADUAL    NaN   \n",
       "104290     CEL JTO A EE JULIA MACEDO PANTOJA PROFESSORA  ESTADUAL    NaN   \n",
       "104291  INSTITUTO FEDERAL DE SAO PAULO CAMPUS-SAO PAULO   Federal    NaN   \n",
       "\n",
       "        SITUAÇÃO MAIS EDUCAÇÃO  Qtde_Docentes  ...  TOT_EE TIPO_EE  EE_Creche  \\\n",
       "104287       NaN           NaN            NaN  ...     0.0       0        0.0   \n",
       "104288       NaN           NaN            NaN  ...     0.0       0        0.0   \n",
       "104289       NaN           NaN            NaN  ...     0.0       0        0.0   \n",
       "104290       NaN           NaN            NaN  ...     0.0       0        0.0   \n",
       "104291       NaN           NaN            NaN  ...     3.0       0        0.0   \n",
       "\n",
       "       EE_Pre EE_Fund EE_Med EE_EJA EE_EP ALEDESP TOTAL_ALUNOS  \n",
       "104287    0.0     0.0    0.0    0.0   0.0     0.0            0  \n",
       "104288    0.0     0.0    0.0    0.0   0.0     0.0            0  \n",
       "104289    0.0     0.0    0.0    0.0   0.0     0.0            0  \n",
       "104290    0.0     0.0    0.0    0.0   0.0     0.0            0  \n",
       "104291    0.0     0.0    0.0    0.0   0.0     0.0         1427  \n",
       "\n",
       "[5 rows x 249 columns]"
      ]
     },
     "execution_count": 3,
     "metadata": {},
     "output_type": "execute_result"
    }
   ],
   "source": [
    "# Mostrando as cinco últimas linhas\n",
    "df.tail()"
   ]
  },
  {
   "cell_type": "code",
   "execution_count": 4,
   "metadata": {},
   "outputs": [
    {
     "name": "stdout",
     "output_type": "stream",
     "text": [
      "<class 'pandas.core.frame.DataFrame'>\n",
      "RangeIndex: 104292 entries, 0 to 104291\n",
      "Columns: 249 entries, CODMEC to TOTAL_ALUNOS\n",
      "dtypes: float64(230), int64(3), object(16)\n",
      "memory usage: 198.1+ MB\n"
     ]
    }
   ],
   "source": [
    "df.info()"
   ]
  },
  {
   "cell_type": "code",
   "execution_count": 5,
   "metadata": {},
   "outputs": [
    {
     "data": {
      "text/plain": [
       "CODMEC            int64\n",
       "CODEOL          float64\n",
       "ANO               int64\n",
       "TIPOESC          object\n",
       "NOME             object\n",
       "                 ...   \n",
       "EE_Med          float64\n",
       "EE_EJA          float64\n",
       "EE_EP           float64\n",
       "ALEDESP         float64\n",
       "TOTAL_ALUNOS      int64\n",
       "Length: 249, dtype: object"
      ]
     },
     "execution_count": 5,
     "metadata": {},
     "output_type": "execute_result"
    }
   ],
   "source": [
    "df.dtypes"
   ]
  },
  {
   "cell_type": "code",
   "execution_count": 6,
   "metadata": {},
   "outputs": [
    {
     "data": {
      "text/html": [
       "<div>\n",
       "<style scoped>\n",
       "    .dataframe tbody tr th:only-of-type {\n",
       "        vertical-align: middle;\n",
       "    }\n",
       "\n",
       "    .dataframe tbody tr th {\n",
       "        vertical-align: top;\n",
       "    }\n",
       "\n",
       "    .dataframe thead th {\n",
       "        text-align: right;\n",
       "    }\n",
       "</style>\n",
       "<table border=\"1\" class=\"dataframe\">\n",
       "  <thead>\n",
       "    <tr style=\"text-align: right;\">\n",
       "      <th></th>\n",
       "      <th>CODMEC</th>\n",
       "      <th>CODEOL</th>\n",
       "      <th>ANO</th>\n",
       "      <th>SITUAÇÃO</th>\n",
       "      <th>Qtde_Docentes</th>\n",
       "      <th>NUM_FUNC</th>\n",
       "      <th>SETEDU</th>\n",
       "      <th>CL_CRECHE</th>\n",
       "      <th>CL_PRE</th>\n",
       "      <th>AL_CRECHE</th>\n",
       "      <th>...</th>\n",
       "      <th>TOT_EE_PRE</th>\n",
       "      <th>TOT_EE</th>\n",
       "      <th>EE_Creche</th>\n",
       "      <th>EE_Pre</th>\n",
       "      <th>EE_Fund</th>\n",
       "      <th>EE_Med</th>\n",
       "      <th>EE_EJA</th>\n",
       "      <th>EE_EP</th>\n",
       "      <th>ALEDESP</th>\n",
       "      <th>TOTAL_ALUNOS</th>\n",
       "    </tr>\n",
       "  </thead>\n",
       "  <tbody>\n",
       "    <tr>\n",
       "      <th>count</th>\n",
       "      <td>1.042920e+05</td>\n",
       "      <td>47669.000000</td>\n",
       "      <td>104292.000000</td>\n",
       "      <td>6509.000000</td>\n",
       "      <td>41934.000000</td>\n",
       "      <td>42446.000000</td>\n",
       "      <td>103522.000000</td>\n",
       "      <td>92935.000000</td>\n",
       "      <td>90459.000000</td>\n",
       "      <td>98814.000000</td>\n",
       "      <td>...</td>\n",
       "      <td>34469.000000</td>\n",
       "      <td>45062.000000</td>\n",
       "      <td>9848.000000</td>\n",
       "      <td>9884.000000</td>\n",
       "      <td>10035.000000</td>\n",
       "      <td>9851.000000</td>\n",
       "      <td>9849.000000</td>\n",
       "      <td>9849.0</td>\n",
       "      <td>77798.000000</td>\n",
       "      <td>104292.000000</td>\n",
       "    </tr>\n",
       "    <tr>\n",
       "      <th>mean</th>\n",
       "      <td>3.523213e+07</td>\n",
       "      <td>230576.352451</td>\n",
       "      <td>2006.693946</td>\n",
       "      <td>1.000307</td>\n",
       "      <td>23.881552</td>\n",
       "      <td>45.530038</td>\n",
       "      <td>4912.054568</td>\n",
       "      <td>2.651219</td>\n",
       "      <td>3.093147</td>\n",
       "      <td>29.139454</td>\n",
       "      <td>...</td>\n",
       "      <td>0.855087</td>\n",
       "      <td>6.688718</td>\n",
       "      <td>0.020309</td>\n",
       "      <td>0.229563</td>\n",
       "      <td>2.974290</td>\n",
       "      <td>0.052583</td>\n",
       "      <td>0.272921</td>\n",
       "      <td>0.0</td>\n",
       "      <td>0.522726</td>\n",
       "      <td>541.686544</td>\n",
       "    </tr>\n",
       "    <tr>\n",
       "      <th>std</th>\n",
       "      <td>2.423939e+05</td>\n",
       "      <td>139513.334491</td>\n",
       "      <td>5.520620</td>\n",
       "      <td>0.017528</td>\n",
       "      <td>21.134257</td>\n",
       "      <td>43.582869</td>\n",
       "      <td>2693.323987</td>\n",
       "      <td>4.414164</td>\n",
       "      <td>4.848220</td>\n",
       "      <td>53.754751</td>\n",
       "      <td>...</td>\n",
       "      <td>3.498425</td>\n",
       "      <td>16.745008</td>\n",
       "      <td>1.627364</td>\n",
       "      <td>2.456093</td>\n",
       "      <td>21.469711</td>\n",
       "      <td>1.625206</td>\n",
       "      <td>5.706969</td>\n",
       "      <td>0.0</td>\n",
       "      <td>9.890982</td>\n",
       "      <td>630.290056</td>\n",
       "    </tr>\n",
       "    <tr>\n",
       "      <th>min</th>\n",
       "      <td>3.500001e+07</td>\n",
       "      <td>86.000000</td>\n",
       "      <td>1996.000000</td>\n",
       "      <td>1.000000</td>\n",
       "      <td>1.000000</td>\n",
       "      <td>1.000000</td>\n",
       "      <td>0.000000</td>\n",
       "      <td>0.000000</td>\n",
       "      <td>0.000000</td>\n",
       "      <td>0.000000</td>\n",
       "      <td>...</td>\n",
       "      <td>0.000000</td>\n",
       "      <td>0.000000</td>\n",
       "      <td>0.000000</td>\n",
       "      <td>0.000000</td>\n",
       "      <td>0.000000</td>\n",
       "      <td>0.000000</td>\n",
       "      <td>0.000000</td>\n",
       "      <td>0.0</td>\n",
       "      <td>0.000000</td>\n",
       "      <td>0.000000</td>\n",
       "    </tr>\n",
       "    <tr>\n",
       "      <th>25%</th>\n",
       "      <td>3.508252e+07</td>\n",
       "      <td>92801.000000</td>\n",
       "      <td>2002.000000</td>\n",
       "      <td>1.000000</td>\n",
       "      <td>8.000000</td>\n",
       "      <td>17.000000</td>\n",
       "      <td>2601.000000</td>\n",
       "      <td>0.000000</td>\n",
       "      <td>0.000000</td>\n",
       "      <td>0.000000</td>\n",
       "      <td>...</td>\n",
       "      <td>0.000000</td>\n",
       "      <td>0.000000</td>\n",
       "      <td>0.000000</td>\n",
       "      <td>0.000000</td>\n",
       "      <td>0.000000</td>\n",
       "      <td>0.000000</td>\n",
       "      <td>0.000000</td>\n",
       "      <td>0.0</td>\n",
       "      <td>0.000000</td>\n",
       "      <td>87.000000</td>\n",
       "    </tr>\n",
       "    <tr>\n",
       "      <th>50%</th>\n",
       "      <td>3.516073e+07</td>\n",
       "      <td>305975.000000</td>\n",
       "      <td>2007.000000</td>\n",
       "      <td>1.000000</td>\n",
       "      <td>18.000000</td>\n",
       "      <td>35.000000</td>\n",
       "      <td>4603.000000</td>\n",
       "      <td>0.000000</td>\n",
       "      <td>1.000000</td>\n",
       "      <td>0.000000</td>\n",
       "      <td>...</td>\n",
       "      <td>0.000000</td>\n",
       "      <td>2.000000</td>\n",
       "      <td>0.000000</td>\n",
       "      <td>0.000000</td>\n",
       "      <td>0.000000</td>\n",
       "      <td>0.000000</td>\n",
       "      <td>0.000000</td>\n",
       "      <td>0.0</td>\n",
       "      <td>0.000000</td>\n",
       "      <td>256.000000</td>\n",
       "    </tr>\n",
       "    <tr>\n",
       "      <th>75%</th>\n",
       "      <td>3.526640e+07</td>\n",
       "      <td>307449.000000</td>\n",
       "      <td>2012.000000</td>\n",
       "      <td>1.000000</td>\n",
       "      <td>35.000000</td>\n",
       "      <td>61.000000</td>\n",
       "      <td>7304.000000</td>\n",
       "      <td>4.000000</td>\n",
       "      <td>4.000000</td>\n",
       "      <td>33.000000</td>\n",
       "      <td>...</td>\n",
       "      <td>0.000000</td>\n",
       "      <td>7.000000</td>\n",
       "      <td>0.000000</td>\n",
       "      <td>0.000000</td>\n",
       "      <td>0.000000</td>\n",
       "      <td>0.000000</td>\n",
       "      <td>0.000000</td>\n",
       "      <td>0.0</td>\n",
       "      <td>0.000000</td>\n",
       "      <td>811.000000</td>\n",
       "    </tr>\n",
       "    <tr>\n",
       "      <th>max</th>\n",
       "      <td>3.599001e+07</td>\n",
       "      <td>700044.000000</td>\n",
       "      <td>2015.000000</td>\n",
       "      <td>2.000000</td>\n",
       "      <td>304.000000</td>\n",
       "      <td>1804.000000</td>\n",
       "      <td>9608.000000</td>\n",
       "      <td>69.000000</td>\n",
       "      <td>39.000000</td>\n",
       "      <td>785.000000</td>\n",
       "      <td>...</td>\n",
       "      <td>384.000000</td>\n",
       "      <td>459.000000</td>\n",
       "      <td>161.000000</td>\n",
       "      <td>81.000000</td>\n",
       "      <td>312.000000</td>\n",
       "      <td>79.000000</td>\n",
       "      <td>200.000000</td>\n",
       "      <td>0.0</td>\n",
       "      <td>459.000000</td>\n",
       "      <td>14274.000000</td>\n",
       "    </tr>\n",
       "  </tbody>\n",
       "</table>\n",
       "<p>8 rows × 233 columns</p>\n",
       "</div>"
      ],
      "text/plain": [
       "             CODMEC         CODEOL            ANO     SITUAÇÃO  Qtde_Docentes  \\\n",
       "count  1.042920e+05   47669.000000  104292.000000  6509.000000   41934.000000   \n",
       "mean   3.523213e+07  230576.352451    2006.693946     1.000307      23.881552   \n",
       "std    2.423939e+05  139513.334491       5.520620     0.017528      21.134257   \n",
       "min    3.500001e+07      86.000000    1996.000000     1.000000       1.000000   \n",
       "25%    3.508252e+07   92801.000000    2002.000000     1.000000       8.000000   \n",
       "50%    3.516073e+07  305975.000000    2007.000000     1.000000      18.000000   \n",
       "75%    3.526640e+07  307449.000000    2012.000000     1.000000      35.000000   \n",
       "max    3.599001e+07  700044.000000    2015.000000     2.000000     304.000000   \n",
       "\n",
       "           NUM_FUNC         SETEDU     CL_CRECHE        CL_PRE     AL_CRECHE  \\\n",
       "count  42446.000000  103522.000000  92935.000000  90459.000000  98814.000000   \n",
       "mean      45.530038    4912.054568      2.651219      3.093147     29.139454   \n",
       "std       43.582869    2693.323987      4.414164      4.848220     53.754751   \n",
       "min        1.000000       0.000000      0.000000      0.000000      0.000000   \n",
       "25%       17.000000    2601.000000      0.000000      0.000000      0.000000   \n",
       "50%       35.000000    4603.000000      0.000000      1.000000      0.000000   \n",
       "75%       61.000000    7304.000000      4.000000      4.000000     33.000000   \n",
       "max     1804.000000    9608.000000     69.000000     39.000000    785.000000   \n",
       "\n",
       "       ...    TOT_EE_PRE        TOT_EE    EE_Creche       EE_Pre  \\\n",
       "count  ...  34469.000000  45062.000000  9848.000000  9884.000000   \n",
       "mean   ...      0.855087      6.688718     0.020309     0.229563   \n",
       "std    ...      3.498425     16.745008     1.627364     2.456093   \n",
       "min    ...      0.000000      0.000000     0.000000     0.000000   \n",
       "25%    ...      0.000000      0.000000     0.000000     0.000000   \n",
       "50%    ...      0.000000      2.000000     0.000000     0.000000   \n",
       "75%    ...      0.000000      7.000000     0.000000     0.000000   \n",
       "max    ...    384.000000    459.000000   161.000000    81.000000   \n",
       "\n",
       "            EE_Fund       EE_Med       EE_EJA   EE_EP       ALEDESP  \\\n",
       "count  10035.000000  9851.000000  9849.000000  9849.0  77798.000000   \n",
       "mean       2.974290     0.052583     0.272921     0.0      0.522726   \n",
       "std       21.469711     1.625206     5.706969     0.0      9.890982   \n",
       "min        0.000000     0.000000     0.000000     0.0      0.000000   \n",
       "25%        0.000000     0.000000     0.000000     0.0      0.000000   \n",
       "50%        0.000000     0.000000     0.000000     0.0      0.000000   \n",
       "75%        0.000000     0.000000     0.000000     0.0      0.000000   \n",
       "max      312.000000    79.000000   200.000000     0.0    459.000000   \n",
       "\n",
       "        TOTAL_ALUNOS  \n",
       "count  104292.000000  \n",
       "mean      541.686544  \n",
       "std       630.290056  \n",
       "min         0.000000  \n",
       "25%        87.000000  \n",
       "50%       256.000000  \n",
       "75%       811.000000  \n",
       "max     14274.000000  \n",
       "\n",
       "[8 rows x 233 columns]"
      ]
     },
     "execution_count": 6,
     "metadata": {},
     "output_type": "execute_result"
    }
   ],
   "source": [
    "df.describe()"
   ]
  },
  {
   "cell_type": "code",
   "execution_count": 7,
   "metadata": {},
   "outputs": [
    {
     "data": {
      "text/plain": [
       "(104292, 249)"
      ]
     },
     "execution_count": 7,
     "metadata": {},
     "output_type": "execute_result"
    }
   ],
   "source": [
    "# Mostra a quantidade de linhas e colunas. No exemplo possui 104292 linhas e 249 colunas\n",
    "df.shape"
   ]
  },
  {
   "cell_type": "code",
   "execution_count": 8,
   "metadata": {},
   "outputs": [
    {
     "data": {
      "text/plain": [
       "CODMEC          104292\n",
       "CODEOL           47669\n",
       "ANO             104292\n",
       "TIPOESC         104286\n",
       "NOME            104231\n",
       "                 ...  \n",
       "EE_Med            9851\n",
       "EE_EJA            9849\n",
       "EE_EP             9849\n",
       "ALEDESP          77798\n",
       "TOTAL_ALUNOS    104292\n",
       "Length: 249, dtype: int64"
      ]
     },
     "execution_count": 8,
     "metadata": {},
     "output_type": "execute_result"
    }
   ],
   "source": [
    "# Qual o tamanho do DataFrame\n",
    "\n",
    "df.count()"
   ]
  },
  {
   "cell_type": "code",
   "execution_count": 9,
   "metadata": {},
   "outputs": [
    {
     "data": {
      "text/plain": [
       "Privada       42841\n",
       "Pública       37871\n",
       "particular     2443\n",
       "Estadual       1177\n",
       "Federal           2\n",
       "Name: DEPADM, dtype: int64"
      ]
     },
     "execution_count": 9,
     "metadata": {},
     "output_type": "execute_result"
    }
   ],
   "source": [
    "# Quantidade de escolas por segmento\n",
    "df['DEPADM'].value_counts()"
   ]
  },
  {
   "cell_type": "code",
   "execution_count": 10,
   "metadata": {},
   "outputs": [
    {
     "data": {
      "text/plain": [
       "ESC.PART.     30757\n",
       "EMEF           9297\n",
       "CR.P.CONV      9241\n",
       "EMEI           9155\n",
       "PARINF         7891\n",
       "CEI DIRET      5564\n",
       "EE5a8Med       5362\n",
       "EE1a4          5171\n",
       "EE             4738\n",
       "PARINFNR       4491\n",
       "CEI INDIR      4282\n",
       "EE1a8Med       2500\n",
       "EE1a8          1299\n",
       "EEMed           580\n",
       "EE5a8           529\n",
       "CCA             460\n",
       "EE6a8Med        395\n",
       "EE1a5           383\n",
       "EE_PROV         377\n",
       "ETE             275\n",
       "EE1a4Med        267\n",
       "CIEJA           219\n",
       "EMEFM           157\n",
       "CCI/CIPS        156\n",
       "CCI_EST         122\n",
       "EMEBS           116\n",
       "EE_HOSP          89\n",
       "CEU AT COM       85\n",
       "CEFAM            63\n",
       "UI               41\n",
       "CECI             33\n",
       "EE6a8            26\n",
       "CEFOR            25\n",
       "E TECNICA        20\n",
       "ETF              18\n",
       "CEL              17\n",
       "CEES             13\n",
       "EFI              13\n",
       "EE1a5Med         12\n",
       "EEEJA            10\n",
       "CLHOSP            9\n",
       "UIP               6\n",
       "CEMEI             6\n",
       "PRIVADA           5\n",
       "CMCT              2\n",
       "CONV ESP          2\n",
       "ESP CONV          1\n",
       "ceeja             1\n",
       "Federal           1\n",
       "CEEJA             1\n",
       "EEI               1\n",
       "ESC PART.         1\n",
       "CEU               1\n",
       "Name: TIPOESC, dtype: int64"
      ]
     },
     "execution_count": 10,
     "metadata": {},
     "output_type": "execute_result"
    }
   ],
   "source": [
    "# Quntidade de tipos de escola\n",
    "df['TIPOESC'].value_counts()"
   ]
  },
  {
   "cell_type": "code",
   "execution_count": 11,
   "metadata": {},
   "outputs": [
    {
     "data": {
      "text/plain": [
       "LESTE     36888\n",
       "SUL       30700\n",
       "NORTE     19354\n",
       "OESTE     13428\n",
       "CENTRO     3921\n",
       "Name: ZONA, dtype: int64"
      ]
     },
     "execution_count": 11,
     "metadata": {},
     "output_type": "execute_result"
    }
   ],
   "source": [
    "# Quantidade de escolas por Zona\n",
    "df['ZONA'].value_counts()"
   ]
  },
  {
   "cell_type": "code",
   "execution_count": 12,
   "metadata": {},
   "outputs": [
    {
     "data": {
      "text/plain": [
       "56493573"
      ]
     },
     "execution_count": 12,
     "metadata": {},
     "output_type": "execute_result"
    }
   ],
   "source": [
    "# Total de alunos\n",
    "df['TOTAL_ALUNOS'].sum()"
   ]
  },
  {
   "cell_type": "code",
   "execution_count": 13,
   "metadata": {},
   "outputs": [
    {
     "data": {
      "text/plain": [
       "ZONA\n",
       "CENTRO     1665031\n",
       "LESTE     21424541\n",
       "NORTE      9987208\n",
       "OESTE      5643024\n",
       "SUL       17773629\n",
       "Name: TOTAL_ALUNOS, dtype: int64"
      ]
     },
     "execution_count": 13,
     "metadata": {},
     "output_type": "execute_result"
    }
   ],
   "source": [
    "# Total de alunos por Zona\n",
    "df.groupby('ZONA')['TOTAL_ALUNOS'].sum()"
   ]
  },
  {
   "cell_type": "code",
   "execution_count": 14,
   "metadata": {},
   "outputs": [
    {
     "data": {
      "text/plain": [
       "ANO\n",
       "1996    2686635\n",
       "1997    2725112\n",
       "1998    2725383\n",
       "1999    2813858\n",
       "2000    2802791\n",
       "2001    2829574\n",
       "2002    2838202\n",
       "2003    2839766\n",
       "2004    2877106\n",
       "2005    2988787\n",
       "2006    2954698\n",
       "2007    2816087\n",
       "2008    2964592\n",
       "2009    2896738\n",
       "2010    2851413\n",
       "2011    2811662\n",
       "2012    2793659\n",
       "2013    2777420\n",
       "2014    2783004\n",
       "2015    2717086\n",
       "Name: TOTAL_ALUNOS, dtype: int64"
      ]
     },
     "execution_count": 14,
     "metadata": {},
     "output_type": "execute_result"
    }
   ],
   "source": [
    "# Total de alunos distribuidos por ano\n",
    "df.groupby('ANO')['TOTAL_ALUNOS'].sum()"
   ]
  },
  {
   "cell_type": "code",
   "execution_count": 19,
   "metadata": {},
   "outputs": [
    {
     "data": {
      "text/plain": [
       "<AxesSubplot:>"
      ]
     },
     "execution_count": 19,
     "metadata": {},
     "output_type": "execute_result"
    },
    {
     "data": {
      "image/png": "[encoded data removed]",
      "text/plain": [
       "<Figure size 432x288 with 1 Axes>"
      ]
     },
     "metadata": {
      "needs_background": "light"
     },
     "output_type": "display_data"
    }
   ],
   "source": [
    "df['ANO'].value_counts(ascending=True).plot.bar()"
   ]
  },
  {
   "cell_type": "code",
   "execution_count": 21,
   "metadata": {},
   "outputs": [
    {
     "data": {
      "text/plain": [
       "<AxesSubplot:title={'center':'TOTAL DE ALUNOS'}>"
      ]
     },
     "execution_count": 21,
     "metadata": {},
     "output_type": "execute_result"
    },
    {
     "data": {
      "image/png": "[encoded data removed]",
      "text/plain": [
       "<Figure size 432x288 with 1 Axes>"
      ]
     },
     "metadata": {
      "needs_background": "light"
     },
     "output_type": "display_data"
    }
   ],
   "source": [
    "df['ANO'].value_counts(ascending=True).plot.barh(x='ANO', y='TOTAL_ALUNOS', title='TOTAL DE ALUNOS', color='green')"
   ]
  },
  {
   "cell_type": "code",
   "execution_count": 26,
   "metadata": {},
   "outputs": [
    {
     "data": {
      "text/plain": [
       "ANO\n",
       "1996         0.0\n",
       "1997         0.0\n",
       "1998         0.0\n",
       "1999         0.0\n",
       "2000         0.0\n",
       "2001         0.0\n",
       "2002         0.0\n",
       "2003         0.0\n",
       "2004         0.0\n",
       "2005         0.0\n",
       "2006         0.0\n",
       "2007         0.0\n",
       "2008    130826.0\n",
       "2009    134442.0\n",
       "2010    138648.0\n",
       "2011    141650.0\n",
       "2012    147792.0\n",
       "2013    149808.0\n",
       "2014    158283.0\n",
       "2015         0.0\n",
       "Name: Qtde_Docentes, dtype: float64"
      ]
     },
     "execution_count": 26,
     "metadata": {},
     "output_type": "execute_result"
    }
   ],
   "source": [
    "df.groupby('ANO')['Qtde_Docentes'].sum()"
   ]
  },
  {
   "cell_type": "code",
   "execution_count": 28,
   "metadata": {},
   "outputs": [
    {
     "data": {
      "text/plain": [
       "ANO\n",
       "2008    130826.0\n",
       "2009    134442.0\n",
       "2010    138648.0\n",
       "2011    141650.0\n",
       "2012    147792.0\n",
       "2013    149808.0\n",
       "2014    158283.0\n",
       "Name: Qtde_Docentes, dtype: float64"
      ]
     },
     "execution_count": 28,
     "metadata": {},
     "output_type": "execute_result"
    }
   ],
   "source": [
    "df = df[df['Qtde_Docentes'].notna()]\n",
    "df.groupby('ANO')['Qtde_Docentes'].sum()"
   ]
  },
  {
   "cell_type": "code",
   "execution_count": 24,
   "metadata": {},
   "outputs": [
    {
     "data": {
      "text/plain": [
       "1001449.0"
      ]
     },
     "execution_count": 24,
     "metadata": {},
     "output_type": "execute_result"
    }
   ],
   "source": [
    "df['Qtde_Docentes'].dropna().sum()"
   ]
  },
  {
   "cell_type": "code",
   "execution_count": null,
   "metadata": {},
   "outputs": [],
   "source": []
  }
 ],
 "metadata": {
  "kernelspec": {
   "display_name": "Python 3",
   "language": "python",
   "name": "python3"
  },
  "language_info": {
   "codemirror_mode": {
    "name": "ipython",
    "version": 3
   },
   "file_extension": ".py",
   "mimetype": "text/x-python",
   "name": "python",
   "nbconvert_exporter": "python",
   "pygments_lexer": "ipython3",
   "version": "3.8.5"
  }
 },
 "nbformat": 4,
 "nbformat_minor": 4
}
